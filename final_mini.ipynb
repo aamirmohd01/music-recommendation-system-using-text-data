{
 "cells": [
  {
   "cell_type": "code",
   "execution_count": null,
   "metadata": {
    "colab": {
     "background_save": true
    },
    "id": "Qczt7vU8K0g_"
   },
   "outputs": [],
   "source": [
    "import pandas as pd\n",
    "# import numpy as np\n",
    "# import keras\n",
    "import sklearn\n",
    "import re\n",
    "import os\n",
    "import tensorflow as tf\n",
    "import matplotlib.pyplot as plt\n",
    "import seaborn as sns\n",
    "import pickle\n",
    "\n",
    "from keras import Input \n",
    "\n",
    "from sklearn.model_selection import train_test_split\n",
    "from nltk.tokenize import word_tokenize\n",
    "from keras.preprocessing.text import Tokenizer\n",
    "from keras.utils import pad_sequences\n",
    "from keras.layers import Dense,Embedding, Dropout,Add, GlobalAveragePooling1D, LayerNormalization, MultiHeadAttention\n",
    "from tensorflow.keras.callbacks import EarlyStopping # type: ignore\n",
    "from tensorflow.keras.models import Model # type: ignore\n",
    "from sklearn.metrics import precision_score, recall_score, f1_score, confusion_matrix, accuracy_score, classification_report\n",
    "from keras.models import load_model,save_model"
   ]
  },
  {
   "cell_type": "code",
   "execution_count": 2,
   "metadata": {
    "colab": {
     "background_save": true
    },
    "id": "E3Nc0Z9oLCmk"
   },
   "outputs": [
    {
     "data": {
      "text/html": [
       "<div>\n",
       "<style scoped>\n",
       "    .dataframe tbody tr th:only-of-type {\n",
       "        vertical-align: middle;\n",
       "    }\n",
       "\n",
       "    .dataframe tbody tr th {\n",
       "        vertical-align: top;\n",
       "    }\n",
       "\n",
       "    .dataframe thead th {\n",
       "        text-align: right;\n",
       "    }\n",
       "</style>\n",
       "<table border=\"1\" class=\"dataframe\">\n",
       "  <thead>\n",
       "    <tr style=\"text-align: right;\">\n",
       "      <th></th>\n",
       "      <th>Unnamed: 0</th>\n",
       "      <th>text</th>\n",
       "      <th>label</th>\n",
       "    </tr>\n",
       "  </thead>\n",
       "  <tbody>\n",
       "    <tr>\n",
       "      <th>0</th>\n",
       "      <td>0</td>\n",
       "      <td>i just feel really helpless and heavy hearted</td>\n",
       "      <td>4</td>\n",
       "    </tr>\n",
       "    <tr>\n",
       "      <th>1</th>\n",
       "      <td>1</td>\n",
       "      <td>ive enjoyed being able to slouch about relax a...</td>\n",
       "      <td>0</td>\n",
       "    </tr>\n",
       "    <tr>\n",
       "      <th>2</th>\n",
       "      <td>2</td>\n",
       "      <td>i gave up my internship with the dmrg and am f...</td>\n",
       "      <td>4</td>\n",
       "    </tr>\n",
       "    <tr>\n",
       "      <th>3</th>\n",
       "      <td>3</td>\n",
       "      <td>i dont know i feel so lost</td>\n",
       "      <td>0</td>\n",
       "    </tr>\n",
       "    <tr>\n",
       "      <th>4</th>\n",
       "      <td>4</td>\n",
       "      <td>i am a kindergarten teacher and i am thoroughl...</td>\n",
       "      <td>4</td>\n",
       "    </tr>\n",
       "  </tbody>\n",
       "</table>\n",
       "</div>"
      ],
      "text/plain": [
       "   Unnamed: 0                                               text  label\n",
       "0           0      i just feel really helpless and heavy hearted      4\n",
       "1           1  ive enjoyed being able to slouch about relax a...      0\n",
       "2           2  i gave up my internship with the dmrg and am f...      4\n",
       "3           3                         i dont know i feel so lost      0\n",
       "4           4  i am a kindergarten teacher and i am thoroughl...      4"
      ]
     },
     "execution_count": 2,
     "metadata": {},
     "output_type": "execute_result"
    }
   ],
   "source": [
    "# Loading the data\n",
    "df = pd.read_csv(r\"C:\\Users\\Admin\\Desktop\\text.csv\")#,nrows=150000\n",
    "df.head(5)"
   ]
  },
  {
   "cell_type": "code",
   "execution_count": 3,
   "metadata": {
    "colab": {
     "background_save": true
    },
    "id": "WbJwBajwP54z",
    "scrolled": true
   },
   "outputs": [
    {
     "name": "stdout",
     "output_type": "stream",
     "text": [
      "<class 'pandas.core.frame.DataFrame'>\n",
      "RangeIndex: 416809 entries, 0 to 416808\n",
      "Data columns (total 3 columns):\n",
      " #   Column      Non-Null Count   Dtype \n",
      "---  ------      --------------   ----- \n",
      " 0   Unnamed: 0  416809 non-null  int64 \n",
      " 1   text        416809 non-null  object\n",
      " 2   label       416809 non-null  int64 \n",
      "dtypes: int64(2), object(1)\n",
      "memory usage: 9.5+ MB\n",
      "None\n",
      "6\n",
      "          Unnamed: 0          label\n",
      "count  416809.000000  416809.000000\n",
      "mean   208404.000000       1.554271\n",
      "std    120322.538513       1.490453\n",
      "min         0.000000       0.000000\n",
      "25%    104202.000000       0.000000\n",
      "50%    208404.000000       1.000000\n",
      "75%    312606.000000       3.000000\n",
      "max    416808.000000       5.000000\n"
     ]
    }
   ],
   "source": [
    "# data analysis\n",
    "print(df.info())\n",
    "print(df.describe())"
   ]
  },
  {
   "cell_type": "code",
   "execution_count": 4,
   "metadata": {},
   "outputs": [
    {
     "name": "stdout",
     "output_type": "stream",
     "text": [
      "[4 0 2 1 5 3]\n",
      "Topic: 1, Count: 141067\n",
      "Topic: 0, Count: 121187\n",
      "Topic: 3, Count: 57317\n",
      "Topic: 4, Count: 47712\n",
      "Topic: 2, Count: 34554\n",
      "Topic: 5, Count: 14972\n"
     ]
    }
   ],
   "source": [
    "\n",
    "# Print unique topics\n",
    "print(df['label'].nunique())\n",
    "unique_topics = df['label'].unique()\n",
    "print(unique_topics)\n",
    "\n",
    "# Count occurrences of each unique topic\n",
    "topic_counts = df['label'].value_counts()\n",
    "\n",
    "# Print unique topics and their counts\n",
    "for topic, count in topic_counts.items():\n",
    "    print(f\"Topic: {topic}, Count: {count}\")"
   ]
  },
  {
   "cell_type": "code",
   "execution_count": 5,
   "metadata": {},
   "outputs": [
    {
     "name": "stdout",
     "output_type": "stream",
     "text": [
      "0: sadness\n",
      "1: joy\n",
      "2: love\n",
      "3: anger\n",
      "4: fear\n",
      "5: surprise\n"
     ]
    }
   ],
   "source": [
    "Emotion ={0:'sadness' ,1: 'joy', 2:'love'  ,3: 'anger' , 4:'fear' , 5:'surprise' }\n",
    "for key, value in Emotion.items():\n",
    "    print(f\"{key}: {value}\")"
   ]
  },
  {
   "cell_type": "code",
   "execution_count": 6,
   "metadata": {
    "colab": {
     "background_save": true
    },
    "id": "FGkHfYLpntj6"
   },
   "outputs": [],
   "source": [
    "# data cleaning\n",
    "def data_cleaning(text):\n",
    "    # Remove HTML Tags\n",
    "    text = re.sub(r'<.*?>', '', text)\n",
    "\n",
    "    # Remove Special Characters\n",
    "    text = re.sub(r'[^a-zA-Z0-9\\s]', '', text)\n",
    "\n",
    "    # Lowercasing\n",
    "    tokens = text.lower()\n",
    "\n",
    "    # Tokenization\n",
    "    tokens = word_tokenize(text)\n",
    "\n",
    "    # Remove Numbers\n",
    "    text = re.sub(r'\\d+', '', ' '.join(tokens))\n",
    "\n",
    "    # Remove Extra Whitespace\n",
    "    text = ' '.join(text.split())\n",
    "\n",
    "    return text"
   ]
  },
  {
   "cell_type": "code",
   "execution_count": 7,
   "metadata": {},
   "outputs": [],
   "source": [
    "# # calling the cleaning fuction\n",
    "df['text']= df['text'].apply(data_cleaning)"
   ]
  },
  {
   "cell_type": "code",
   "execution_count": 8,
   "metadata": {},
   "outputs": [],
   "source": [
    "# seperating X and y\n",
    "X = df['text'].values\n",
    "y = df['label']"
   ]
  },
  {
   "cell_type": "code",
   "execution_count": 9,
   "metadata": {},
   "outputs": [],
   "source": [
    "# train test split\n",
    "X_train,X_test,y_train,y_test=train_test_split(X,y,random_state=2,test_size=0.3)"
   ]
  },
  {
   "cell_type": "code",
   "execution_count": 10,
   "metadata": {},
   "outputs": [
    {
     "name": "stdout",
     "output_type": "stream",
     "text": [
      "0         4\n",
      "1         0\n",
      "2         4\n",
      "3         0\n",
      "4         4\n",
      "         ..\n",
      "416804    2\n",
      "416805    3\n",
      "416806    5\n",
      "416807    3\n",
      "416808    5\n",
      "Name: label, Length: 416809, dtype: int64\n"
     ]
    },
    {
     "data": {
      "text/plain": [
       "'i don t feel confident with this so i don t commit to it and focus'"
      ]
     },
     "execution_count": 10,
     "metadata": {},
     "output_type": "execute_result"
    }
   ],
   "source": [
    "print(y)\n",
    "X_train[0]"
   ]
  },
  {
   "cell_type": "code",
   "execution_count": 11,
   "metadata": {
    "colab": {
     "background_save": true
    },
    "id": "dTIST_5XRI_n"
   },
   "outputs": [],
   "source": [
    "# tokenizer for review colomn\n",
    "token = Tokenizer(lower=False,oov_token='<nothing>') \n",
    "token.fit_on_texts(X_train)\n",
    "X_train = token.texts_to_sequences(X_train)\n",
    "X_test = token.texts_to_sequences(X_test)  "
   ]
  },
  {
   "cell_type": "markdown",
   "metadata": {},
   "source": [
    "Calculating the Parameters of the data"
   ]
  },
  {
   "cell_type": "code",
   "execution_count": 12,
   "metadata": {},
   "outputs": [
    {
     "name": "stdout",
     "output_type": "stream",
     "text": [
      "Number of unique topics: 6\n",
      "63571\n"
     ]
    }
   ],
   "source": [
    "maxlen=35\n",
    "# Count the number of unique topics\n",
    "num_y = df['label'].nunique()\n",
    "print(f\"Number of unique topics: {num_y}\")\n",
    "# total vocab length\n",
    "voc_len=len(token.word_index)+1\n",
    "print(voc_len)"
   ]
  },
  {
   "cell_type": "code",
   "execution_count": 13,
   "metadata": {
    "colab": {
     "background_save": true
    },
    "id": "OowlW2yHzUTO"
   },
   "outputs": [
    {
     "name": "stdout",
     "output_type": "stream",
     "text": [
      "Encoded X Train\n",
      " [[   2  101   43 ...    0    0    0]\n",
      " [   2   91   11 ...    0    0    0]\n",
      " [   2    3   15 ...    0    0    0]\n",
      " ...\n",
      " [   2    3   15 ...    0    0    0]\n",
      " [   2    3 2950 ...    0    0    0]\n",
      " [   2   18 4923 ...    0    0    0]] \n",
      "\n",
      "Encoded X Test\n",
      " [[   2  113   63 ...    0    0    0]\n",
      " [   2  237   13 ...   13 1116   52]\n",
      " [   2  841   31 ...    0    0    0]\n",
      " ...\n",
      " [   2   44    9 ...    0    0    0]\n",
      " [   2   21    8 ...  126    0    0]\n",
      " [   2    3 1402 ...    0    0    0]] \n",
      "\n"
     ]
    }
   ],
   "source": [
    "# for train data\n",
    "X_train=pad_sequences(X_train,padding='post',maxlen=maxlen)\n",
    "X_test=pad_sequences(X_test,padding='post',maxlen=maxlen)\n",
    "print('Encoded X Train\\n', X_train, '\\n')\n",
    "print('Encoded X Test\\n', X_test, '\\n')"
   ]
  },
  {
   "cell_type": "code",
   "execution_count": 14,
   "metadata": {},
   "outputs": [
    {
     "name": "stdout",
     "output_type": "stream",
     "text": [
      "[[  2 265 734   2  24 150   0   0   0   0   0   0   0   0   0   0   0   0\n",
      "    0   0   0   0   0   0   0   0   0   0   0   0   0   0   0   0   0]]\n",
      "Original lyrics words: ['i', 'went', 'outside', 'i', 'am', 'happy']\n"
     ]
    }
   ],
   "source": [
    "# for train data\n",
    "X_train=pad_sequences(X_train,padding='post',maxlen=maxlen)\n",
    "X_test=pad_sequences(X_test,padding='post',maxlen=maxlen)\n",
    "# print('Encoded X Train\\n', X_train, '\\n')\n",
    "lyrics = \"i went outside i am happy\"\n",
    "\n",
    "# Tokenize the lyrics\n",
    "sequences = token.texts_to_sequences([lyrics])\n",
    "# print(sequences)\n",
    "# Pad sequences\n",
    "max_len = 35  # Should match the maxlen used during training\n",
    "padded_sequences = pad_sequences(sequences, padding='post', maxlen=max_len)\n",
    "print(padded_sequences)\n",
    "\n",
    "# Get the word-to-token mapping from the tokenizer\n",
    "word_index = token.word_index\n",
    "\n",
    "# Reverse the mapping (token-to-word)\n",
    "reverse_word_index = {v: k for k, v in word_index.items()}\n",
    "\n",
    "# Iterate through each token in the padded sequences and map it back to words\n",
    "for sequence in padded_sequences:\n",
    "    words = [reverse_word_index[token] for token in sequence if token != 0]  # Exclude padding tokens\n",
    "    print(\"Original lyrics words:\", words)"
   ]
  },
  {
   "cell_type": "code",
   "execution_count": 15,
   "metadata": {
    "colab": {
     "background_save": true
    },
    "id": "4H4UAi_NRJHI"
   },
   "outputs": [
    {
     "name": "stdout",
     "output_type": "stream",
     "text": [
      "(291766, 35)\n",
      "(125043, 35)\n",
      "(291766,)\n",
      "(125043,)\n"
     ]
    }
   ],
   "source": [
    "print(X_train.shape)\n",
    "print(X_test.shape)\n",
    "type(X_test)\n",
    "y_train = np.array(y_train)\n",
    "y_test = np.array(y_test)\n",
    "print(y_train.shape)\n",
    "print(y_test.shape)"
   ]
  },
  {
   "cell_type": "markdown",
   "metadata": {},
   "source": [
    "TRANSFORMERS"
   ]
  },
  {
   "cell_type": "code",
   "execution_count": 16,
   "metadata": {},
   "outputs": [
    {
     "name": "stdout",
     "output_type": "stream",
     "text": [
      "Model: \"model\"\n",
      "__________________________________________________________________________________________________\n",
      " Layer (type)                   Output Shape         Param #     Connected to                     \n",
      "==================================================================================================\n",
      " input_1 (InputLayer)           [(None, 35)]         0           []                               \n",
      "                                                                                                  \n",
      " embedding (Embedding)          (None, 35, 128)      8137088     ['input_1[0][0]']                \n",
      "                                                                                                  \n",
      " tf.__operators__.add (TFOpLamb  (None, 35, 128)     0           ['embedding[0][0]']              \n",
      " da)                                                                                              \n",
      "                                                                                                  \n",
      " layer_normalization (LayerNorm  (None, 35, 128)     256         ['tf.__operators__.add[0][0]']   \n",
      " alization)                                                                                       \n",
      "                                                                                                  \n",
      " multi_head_attention (MultiHea  (None, 35, 128)     527488      ['layer_normalization[0][0]',    \n",
      " dAttention)                                                      'layer_normalization[0][0]']    \n",
      "                                                                                                  \n",
      " dropout (Dropout)              (None, 35, 128)      0           ['multi_head_attention[0][0]']   \n",
      "                                                                                                  \n",
      " add (Add)                      (None, 35, 128)      0           ['dropout[0][0]',                \n",
      "                                                                  'tf.__operators__.add[0][0]']   \n",
      "                                                                                                  \n",
      " layer_normalization_1 (LayerNo  (None, 35, 128)     256         ['add[0][0]']                    \n",
      " rmalization)                                                                                     \n",
      "                                                                                                  \n",
      " dense (Dense)                  (None, 35, 1024)     132096      ['layer_normalization_1[0][0]']  \n",
      "                                                                                                  \n",
      " dropout_1 (Dropout)            (None, 35, 1024)     0           ['dense[0][0]']                  \n",
      "                                                                                                  \n",
      " dense_1 (Dense)                (None, 35, 128)      131200      ['dropout_1[0][0]']              \n",
      "                                                                                                  \n",
      " add_1 (Add)                    (None, 35, 128)      0           ['dense_1[0][0]',                \n",
      "                                                                  'add[0][0]']                    \n",
      "                                                                                                  \n",
      " layer_normalization_2 (LayerNo  (None, 35, 128)     256         ['add_1[0][0]']                  \n",
      " rmalization)                                                                                     \n",
      "                                                                                                  \n",
      " multi_head_attention_1 (MultiH  (None, 35, 128)     527488      ['layer_normalization_2[0][0]',  \n",
      " eadAttention)                                                    'layer_normalization_2[0][0]']  \n",
      "                                                                                                  \n",
      " dropout_2 (Dropout)            (None, 35, 128)      0           ['multi_head_attention_1[0][0]'] \n",
      "                                                                                                  \n",
      " add_2 (Add)                    (None, 35, 128)      0           ['dropout_2[0][0]',              \n",
      "                                                                  'add_1[0][0]']                  \n",
      "                                                                                                  \n",
      " layer_normalization_3 (LayerNo  (None, 35, 128)     256         ['add_2[0][0]']                  \n",
      " rmalization)                                                                                     \n",
      "                                                                                                  \n",
      " dense_2 (Dense)                (None, 35, 1024)     132096      ['layer_normalization_3[0][0]']  \n",
      "                                                                                                  \n",
      " dropout_3 (Dropout)            (None, 35, 1024)     0           ['dense_2[0][0]']                \n",
      "                                                                                                  \n",
      " dense_3 (Dense)                (None, 35, 128)      131200      ['dropout_3[0][0]']              \n",
      "                                                                                                  \n",
      " add_3 (Add)                    (None, 35, 128)      0           ['dense_3[0][0]',                \n",
      "                                                                  'add_2[0][0]']                  \n",
      "                                                                                                  \n",
      " layer_normalization_4 (LayerNo  (None, 35, 128)     256         ['add_3[0][0]']                  \n",
      " rmalization)                                                                                     \n",
      "                                                                                                  \n",
      " multi_head_attention_2 (MultiH  (None, 35, 128)     527488      ['layer_normalization_4[0][0]',  \n",
      " eadAttention)                                                    'layer_normalization_4[0][0]']  \n",
      "                                                                                                  \n",
      " dropout_4 (Dropout)            (None, 35, 128)      0           ['multi_head_attention_2[0][0]'] \n",
      "                                                                                                  \n",
      " add_4 (Add)                    (None, 35, 128)      0           ['dropout_4[0][0]',              \n",
      "                                                                  'add_3[0][0]']                  \n",
      "                                                                                                  \n",
      " layer_normalization_5 (LayerNo  (None, 35, 128)     256         ['add_4[0][0]']                  \n",
      " rmalization)                                                                                     \n",
      "                                                                                                  \n",
      " dense_4 (Dense)                (None, 35, 1024)     132096      ['layer_normalization_5[0][0]']  \n",
      "                                                                                                  \n",
      " dropout_5 (Dropout)            (None, 35, 1024)     0           ['dense_4[0][0]']                \n",
      "                                                                                                  \n",
      " dense_5 (Dense)                (None, 35, 128)      131200      ['dropout_5[0][0]']              \n",
      "                                                                                                  \n",
      " add_5 (Add)                    (None, 35, 128)      0           ['dense_5[0][0]',                \n",
      "                                                                  'add_4[0][0]']                  \n",
      "                                                                                                  \n",
      " layer_normalization_6 (LayerNo  (None, 35, 128)     256         ['add_5[0][0]']                  \n",
      " rmalization)                                                                                     \n",
      "                                                                                                  \n",
      " multi_head_attention_3 (MultiH  (None, 35, 128)     527488      ['layer_normalization_6[0][0]',  \n",
      " eadAttention)                                                    'layer_normalization_6[0][0]']  \n",
      "                                                                                                  \n",
      " dropout_6 (Dropout)            (None, 35, 128)      0           ['multi_head_attention_3[0][0]'] \n",
      "                                                                                                  \n",
      " add_6 (Add)                    (None, 35, 128)      0           ['dropout_6[0][0]',              \n",
      "                                                                  'add_5[0][0]']                  \n",
      "                                                                                                  \n",
      " layer_normalization_7 (LayerNo  (None, 35, 128)     256         ['add_6[0][0]']                  \n",
      " rmalization)                                                                                     \n",
      "                                                                                                  \n",
      " dense_6 (Dense)                (None, 35, 1024)     132096      ['layer_normalization_7[0][0]']  \n",
      "                                                                                                  \n",
      " dropout_7 (Dropout)            (None, 35, 1024)     0           ['dense_6[0][0]']                \n",
      "                                                                                                  \n",
      " dense_7 (Dense)                (None, 35, 128)      131200      ['dropout_7[0][0]']              \n",
      "                                                                                                  \n",
      " add_7 (Add)                    (None, 35, 128)      0           ['dense_7[0][0]',                \n",
      "                                                                  'add_6[0][0]']                  \n",
      "                                                                                                  \n",
      " layer_normalization_8 (LayerNo  (None, 35, 128)     256         ['add_7[0][0]']                  \n",
      " rmalization)                                                                                     \n",
      "                                                                                                  \n",
      " multi_head_attention_4 (MultiH  (None, 35, 128)     527488      ['layer_normalization_8[0][0]',  \n",
      " eadAttention)                                                    'layer_normalization_8[0][0]']  \n",
      "                                                                                                  \n",
      " dropout_8 (Dropout)            (None, 35, 128)      0           ['multi_head_attention_4[0][0]'] \n",
      "                                                                                                  \n",
      " add_8 (Add)                    (None, 35, 128)      0           ['dropout_8[0][0]',              \n",
      "                                                                  'add_7[0][0]']                  \n",
      "                                                                                                  \n",
      " layer_normalization_9 (LayerNo  (None, 35, 128)     256         ['add_8[0][0]']                  \n",
      " rmalization)                                                                                     \n",
      "                                                                                                  \n",
      " dense_8 (Dense)                (None, 35, 1024)     132096      ['layer_normalization_9[0][0]']  \n",
      "                                                                                                  \n",
      " dropout_9 (Dropout)            (None, 35, 1024)     0           ['dense_8[0][0]']                \n",
      "                                                                                                  \n",
      " dense_9 (Dense)                (None, 35, 128)      131200      ['dropout_9[0][0]']              \n",
      "                                                                                                  \n",
      " add_9 (Add)                    (None, 35, 128)      0           ['dense_9[0][0]',                \n",
      "                                                                  'add_8[0][0]']                  \n",
      "                                                                                                  \n",
      " layer_normalization_10 (LayerN  (None, 35, 128)     256         ['add_9[0][0]']                  \n",
      " ormalization)                                                                                    \n",
      "                                                                                                  \n",
      " multi_head_attention_5 (MultiH  (None, 35, 128)     527488      ['layer_normalization_10[0][0]', \n",
      " eadAttention)                                                    'layer_normalization_10[0][0]'] \n",
      "                                                                                                  \n",
      " dropout_10 (Dropout)           (None, 35, 128)      0           ['multi_head_attention_5[0][0]'] \n",
      "                                                                                                  \n",
      " add_10 (Add)                   (None, 35, 128)      0           ['dropout_10[0][0]',             \n",
      "                                                                  'add_9[0][0]']                  \n",
      "                                                                                                  \n",
      " layer_normalization_11 (LayerN  (None, 35, 128)     256         ['add_10[0][0]']                 \n",
      " ormalization)                                                                                    \n",
      "                                                                                                  \n",
      " dense_10 (Dense)               (None, 35, 1024)     132096      ['layer_normalization_11[0][0]'] \n",
      "                                                                                                  \n",
      " dropout_11 (Dropout)           (None, 35, 1024)     0           ['dense_10[0][0]']               \n",
      "                                                                                                  \n",
      " dense_11 (Dense)               (None, 35, 128)      131200      ['dropout_11[0][0]']             \n",
      "                                                                                                  \n",
      " add_11 (Add)                   (None, 35, 128)      0           ['dense_11[0][0]',               \n",
      "                                                                  'add_10[0][0]']                 \n",
      "                                                                                                  \n",
      " global_average_pooling1d (Glob  (None, 128)         0           ['add_11[0][0]']                 \n",
      " alAveragePooling1D)                                                                              \n",
      "                                                                                                  \n",
      " dropout_12 (Dropout)           (None, 128)          0           ['global_average_pooling1d[0][0]'\n",
      "                                                                 ]                                \n",
      "                                                                                                  \n",
      " dense_12 (Dense)               (None, 6)            774         ['dropout_12[0][0]']             \n",
      "                                                                                                  \n",
      "==================================================================================================\n",
      "Total params: 12,885,638\n",
      "Trainable params: 12,885,638\n",
      "Non-trainable params: 0\n",
      "__________________________________________________________________________________________________\n"
     ]
    }
   ],
   "source": [
    "def get_positional_encoding(max_len, embed_dim):\n",
    "    pos = np.arange(max_len)[:, np.newaxis]\n",
    "    i = np.arange(embed_dim)[np.newaxis, :]\n",
    "    angle_rates = 1 / np.power(10000, (2 * (i // 2)) / np.float32(embed_dim))\n",
    "    pos_enc = pos * angle_rates\n",
    "    pos_enc[:, 0::2] = np.sin(pos_enc[:, 0::2])  # apply sin to even indices in the array\n",
    "    pos_enc[:, 1::2] = np.cos(pos_enc[:, 1::2])  # apply cos to odd indices in the array\n",
    "    return tf.constant(pos_enc, dtype=tf.float32)\n",
    "\n",
    "# Transformer Encoder Block\n",
    "def transformer_encoder(inputs, head_size, num_heads, ff_dim, dropout=0):\n",
    "    # Normalization and Attention\n",
    "    x = LayerNormalization(epsilon=1e-6)(inputs)\n",
    "    x = MultiHeadAttention(key_dim=head_size, num_heads=num_heads, dropout=dropout)(x, x)\n",
    "    x = Dropout(dropout)(x)\n",
    "    res = Add()([x, inputs])\n",
    "\n",
    "    # Feed Forward Part\n",
    "    x = LayerNormalization(epsilon=1e-6)(res)\n",
    "    x = Dense(ff_dim, activation=\"relu\")(x)\n",
    "    x = Dropout(dropout)(x)\n",
    "    x = Dense(inputs.shape[-1])(x)\n",
    "    return Add()([x, res])\n",
    "\n",
    "# Build the Transformer model\n",
    "def build_transformer_model(vocab_size, max_len, num_classes, embed_dim=128, num_heads=8, ff_dim=1024, num_encoders=4, dropout=0.1):\n",
    "    inputs = Input(shape=(max_len,))\n",
    "    embedding_layer = Embedding(input_dim=vocab_size, output_dim=embed_dim, input_length=max_len)\n",
    "    x = embedding_layer(inputs)\n",
    "    \n",
    "    # Positional Encoding\n",
    "    pos_encoding = get_positional_encoding(max_len, embed_dim)\n",
    "    x += pos_encoding\n",
    "    \n",
    "    for _ in range(num_encoders):\n",
    "        x = transformer_encoder(x, embed_dim, num_heads, ff_dim, dropout)\n",
    "\n",
    "    x = GlobalAveragePooling1D()(x)\n",
    "    x = Dropout(dropout)(x)\n",
    "    outputs = Dense(num_classes, activation=\"softmax\")(x)\n",
    "\n",
    "    return Model(inputs, outputs)\n",
    "\n",
    "# Define parameters\n",
    "vocab_size = voc_len  \n",
    "max_len = maxlen       \n",
    "num_classes = num_y    \n",
    "\n",
    "# Build the model\n",
    "model = build_transformer_model(vocab_size=vocab_size, max_len=max_len, num_classes=num_classes)\n",
    "\n",
    "# Compile the model\n",
    "model.compile(optimizer='adam', loss='sparse_categorical_crossentropy', metrics=['accuracy'])\n",
    "\n",
    "# Print the model summary\n",
    "model.summary()\n"
   ]
  },
  {
   "cell_type": "code",
   "execution_count": 17,
   "metadata": {},
   "outputs": [
    {
     "name": "stdout",
     "output_type": "stream",
     "text": [
      "Epoch 1/15\n",
      "2280/2280 [==============================] - 712s 310ms/step - loss: 0.7253 - accuracy: 0.7278 - val_loss: 0.2235 - val_accuracy: 0.8980\n",
      "Epoch 2/15\n",
      "2280/2280 [==============================] - 686s 301ms/step - loss: 0.2218 - accuracy: 0.8997 - val_loss: 0.2083 - val_accuracy: 0.9008\n",
      "Epoch 3/15\n",
      "2280/2280 [==============================] - 685s 301ms/step - loss: 0.2025 - accuracy: 0.9049 - val_loss: 0.2379 - val_accuracy: 0.8937\n",
      "Epoch 4/15\n",
      "2280/2280 [==============================] - 697s 306ms/step - loss: 0.1864 - accuracy: 0.9107 - val_loss: 0.2068 - val_accuracy: 0.9010\n",
      "Epoch 5/15\n",
      "2280/2280 [==============================] - 711s 312ms/step - loss: 0.1697 - accuracy: 0.9165 - val_loss: 0.1976 - val_accuracy: 0.9049\n",
      "Epoch 6/15\n",
      "2280/2280 [==============================] - 715s 313ms/step - loss: 0.1515 - accuracy: 0.9236 - val_loss: 0.2074 - val_accuracy: 0.9038\n",
      "Epoch 7/15\n",
      "2280/2280 [==============================] - 716s 314ms/step - loss: 0.1356 - accuracy: 0.9291 - val_loss: 0.1857 - val_accuracy: 0.9108\n",
      "Epoch 8/15\n",
      "2280/2280 [==============================] - 713s 313ms/step - loss: 0.1247 - accuracy: 0.9339 - val_loss: 0.2226 - val_accuracy: 0.9112\n",
      "Epoch 9/15\n",
      "2280/2280 [==============================] - 720s 316ms/step - loss: 0.1154 - accuracy: 0.9371 - val_loss: 0.2167 - val_accuracy: 0.9124\n"
     ]
    }
   ],
   "source": [
    "# Early stopping callback\n",
    "early_stopping = EarlyStopping(monitor='val_loss', patience=2, restore_best_weights=True)\n",
    "\n",
    "# Train the model with early stopping\n",
    "history = model.fit(X_train, y_train, epochs=15, batch_size=128, validation_data=(X_test, y_test), callbacks=[early_stopping])"
   ]
  },
  {
   "cell_type": "code",
   "execution_count": 22,
   "metadata": {},
   "outputs": [
    {
     "name": "stdout",
     "output_type": "stream",
     "text": [
      "[[ 2 91 31  0  0  0  0  0  0  0  0  0  0  0  0  0  0  0  0  0  0  0  0  0\n",
      "   0  0  0  0  0  0  0  0  0  0  0  0  0  0  0  0  0  0  0  0  0  0  0  0\n",
      "   0  0  0  0  0  0  0  0  0  0  0  0  0  0  0  0  0]]\n",
      "Original lyrics words: ['i', 'love', 'you']\n"
     ]
    }
   ],
   "source": [
    "# for train data\n",
    "X_train=pad_sequences(X_train,padding='post',maxlen=maxlen)\n",
    "X_test=pad_sequences(X_test,padding='post',maxlen=maxlen)\n",
    "# print('Encoded X Train\\n', X_train, '\\n')\n",
    "\n",
    "new_lyrics = \"i love you\"\n",
    "# Tokenize the lyrics\n",
    "sequences = token.texts_to_sequences([new_lyrics])\n",
    "# print(sequences)\n",
    "# Pad sequences\n",
    "max_len = 65  # Should match the maxlen used during training\n",
    "padded_sequences = pad_sequences(sequences, padding='post', maxlen=max_len)\n",
    "print(padded_sequences)\n",
    "\n",
    "\n",
    "# Get the word-to-token mapping from the tokenizer\n",
    "word_index = token.word_index\n",
    "\n",
    "# Reverse the mapping (token-to-word)\n",
    "reverse_word_index = {v: k for k, v in word_index.items()}\n",
    "\n",
    "# Iterate through each token in the padded sequences and map it back to words\n",
    "for sequence in padded_sequences:\n",
    "    words = [reverse_word_index[token] for token in sequence if token != 0]  # Exclude padding tokens\n",
    "    print(\"Original lyrics words:\", words)"
   ]
  },
  {
   "cell_type": "code",
   "execution_count": 28,
   "metadata": {},
   "outputs": [
    {
     "name": "stdout",
     "output_type": "stream",
     "text": [
      "1/1 [==============================] - 0s 34ms/step\n",
      "0\n",
      "The predicted topic for the given lyrics is: sadness\n"
     ]
    }
   ],
   "source": [
    "# Function to predict the topic of new lyrics\n",
    "def predict_topic(new_lyrics):\n",
    "    # Tokenize and pad the new lyrics\n",
    "    sequences = token.texts_to_sequences([new_lyrics])\n",
    "    padded_sequences = pad_sequences(sequences, padding='post',maxlen=maxlen)\n",
    "    \n",
    "    # Predict the topic\n",
    "    prediction = model.predict(padded_sequences)\n",
    "    predicted_topic_index = int(np.argmax(prediction))\n",
    "    # predicted_topic = label_encoder.inverse_transform([predicted_topic_index])\n",
    "    print(predicted_topic_index)\n",
    "    return Emotion[predicted_topic_index]  \n",
    "\n",
    "# Example usage\n",
    "new_lyrics = \"i love\"\n",
    "predicted_topic = predict_topic(new_lyrics)\n",
    "print(f\"The predicted topic for the given lyrics is: {predicted_topic}\")"
   ]
  },
  {
   "cell_type": "code",
   "execution_count": null,
   "metadata": {},
   "outputs": [],
   "source": [
    "\n",
    "# Assuming you have a LabelEncoder or predefined class names\n",
    "class_names =   Emotion =['sadness' , 'joy', 'love'  , 'anger' , 'fear' , 'surprise']\n",
    "\n",
    "# Evaluate the model and get predictions\n",
    "y_pred = model.predict(X_test)\n"
   ]
  },
  {
   "cell_type": "code",
   "execution_count": 31,
   "metadata": {},
   "outputs": [
    {
     "name": "stdout",
     "output_type": "stream",
     "text": [
      "Accuracy: 0.9108\n",
      "              precision    recall  f1-score   support\n",
      "\n",
      "     sadness       0.94      0.95      0.95     36385\n",
      "         joy       0.94      0.93      0.93     42382\n",
      "        love       0.83      0.79      0.81     10404\n",
      "       anger       0.91      0.91      0.91     17066\n",
      "        fear       0.84      0.89      0.86     14250\n",
      "    surprise       0.80      0.72      0.76      4556\n",
      "\n",
      "    accuracy                           0.91    125043\n",
      "   macro avg       0.88      0.87      0.87    125043\n",
      "weighted avg       0.91      0.91      0.91    125043\n",
      "\n"
     ]
    },
    {
     "data": {
      "image/png": "[encoded data removed]",
      "text/plain": [
       "<Figure size 1000x800 with 2 Axes>"
      ]
     },
     "metadata": {},
     "output_type": "display_data"
    },
    {
     "name": "stdout",
     "output_type": "stream",
     "text": [
      "Weighted Average Precision: 0.9105\n",
      "Weighted Average Recall: 0.9108\n",
      "Weighted Average F1 Score: 0.9105\n"
     ]
    }
   ],
   "source": [
    "y_pred_classes = np.argmax(y_pred, axis=1)\n",
    "\n",
    "# Calculate metrics\n",
    "accuracy = accuracy_score(y_test, y_pred_classes)\n",
    "print(f'Accuracy: {accuracy:.4f}')\n",
    "\n",
    "# Print classification report with class names\n",
    "print(classification_report(y_test, y_pred_classes, target_names=class_names))\n",
    "\n",
    "# Generate confusion matrix\n",
    "conf_matrix = confusion_matrix(y_test, y_pred_classes)\n",
    "\n",
    "# Plot confusion matrix with class names\n",
    "plt.figure(figsize=(10, 8))\n",
    "sns.heatmap(conf_matrix, annot=True, fmt='d', cmap='Blues', xticklabels=class_names, yticklabels=class_names)\n",
    "plt.xlabel('Predicted')\n",
    "plt.ylabel('Actual')\n",
    "plt.title('Confusion Matrix')\n",
    "plt.show()\n",
    "\n",
    "# Calculate precision, recall, and F1 score\n",
    "precision = precision_score(y_test, y_pred_classes, average='weighted')\n",
    "recall = recall_score(y_test, y_pred_classes, average='weighted')\n",
    "f1 = f1_score(y_test, y_pred_classes, average='weighted')\n",
    "\n",
    "print(f'Weighted Average Precision: {precision:.4f}')\n",
    "print(f'Weighted Average Recall: {recall:.4f}')\n",
    "print(f'Weighted Average F1 Score: {f1:.4f}')\n"
   ]
  },
  {
   "cell_type": "code",
   "execution_count": 32,
   "metadata": {},
   "outputs": [
    {
     "data": {
      "image/png": "[encoded data removed]",
      "text/plain": [
       "<Figure size 1200x600 with 1 Axes>"
      ]
     },
     "metadata": {},
     "output_type": "display_data"
    },
    {
     "data": {
      "image/png": "[encoded data removed]",
      "text/plain": [
       "<Figure size 1200x600 with 1 Axes>"
      ]
     },
     "metadata": {},
     "output_type": "display_data"
    }
   ],
   "source": [
    "# Plot training & validation loss\n",
    "plt.figure(figsize=(12, 6))\n",
    "plt.plot(history.history['loss'], label='Train Loss')\n",
    "plt.plot(history.history['val_loss'], label='Validation Loss')\n",
    "plt.title('Model Loss')\n",
    "plt.xlabel('Epoch')\n",
    "plt.ylabel('Loss')\n",
    "plt.legend()\n",
    "\n",
    "plt.show()\n",
    "\n",
    "# Plot training & validation accuracy\n",
    "plt.figure(figsize=(12, 6))\n",
    "plt.plot(history.history['accuracy'], label='Train Accuracy')\n",
    "plt.plot(history.history['val_accuracy'], label='Validation Accuracy')\n",
    "plt.title('Model Accuracy')\n",
    "plt.xlabel('Epoch')\n",
    "plt.ylabel('Accuracy')\n",
    "\n",
    "plt.legend()\n",
    "plt.show()"
   ]
  },
  {
   "cell_type": "code",
   "execution_count": 33,
   "metadata": {},
   "outputs": [
    {
     "name": "stdout",
     "output_type": "stream",
     "text": [
      "File lyrics_topic_model.h5 does not exist.\n",
      "File tokenizer.pickle does not exist.\n",
      "File label_encoder.pickle does not exist.\n"
     ]
    },
    {
     "data": {
      "text/plain": [
       "False"
      ]
     },
     "execution_count": 33,
     "metadata": {},
     "output_type": "execute_result"
    }
   ],
   "source": [
    "# Function to delete a file\n",
    "def delete_file(file_path):\n",
    "    if os.path.exists(file_path):\n",
    "        try:\n",
    "            os.remove(file_path)\n",
    "            print(f\"File {file_path} has been deleted successfully.\")\n",
    "            return True\n",
    "        except Exception as e:\n",
    "            print(f\"Error: {e}\")\n",
    "            return False\n",
    "    else:\n",
    "        print(f\"File {file_path} does not exist.\")\n",
    "        return False\n",
    "\n",
    "# Example usage of delete_file\n",
    "model_path = \"lyrics_topic_model.h5\"\n",
    "tokenizer_path = \"tokenizer.pickle\"\n",
    "label_encoder_path = \"label_encoder.pickle\"\n",
    "\n",
    "# Delete the model file\n",
    "delete_file(model_path)\n",
    "\n",
    "# Delete the tokenizer file\n",
    "delete_file(tokenizer_path)\n",
    "\n",
    "# Delete the label encoder file\n",
    "delete_file(label_encoder_path)"
   ]
  },
  {
   "cell_type": "code",
   "execution_count": 34,
   "metadata": {},
   "outputs": [],
   "source": [
    "# # Save the trained model to a file\n",
    "# model.save('my_lstm_model.h5')\n",
    "\n",
    "# Assume 'model', 'tokenizer', and 'label_encoder' are already defined and trained\n",
    "\n",
    "# Save the model\n",
    "save_model(model, 'lyrics_topic_model.h5')\n",
    "\n",
    "# Save the tokenizer\n",
    "with open('tokenizer.pickle', 'wb') as handle:\n",
    "    pickle.dump(token, handle, protocol=pickle.HIGHEST_PROTOCOL)\n",
    "\n",
    "# # Save the label encoder\n",
    "# with open('label_encoder.pickle', 'wb') as handle:\n",
    "#     pickle.dump(label_encoder, handle, protocol=pickle.HIGHEST_PROTOCOL)"
   ]
  },
  {
   "cell_type": "code",
   "execution_count": 35,
   "metadata": {},
   "outputs": [
    {
     "name": "stderr",
     "output_type": "stream",
     "text": [
      "WARNING:absl:Found untraced functions such as query_layer_call_fn, query_layer_call_and_return_conditional_losses, key_layer_call_fn, key_layer_call_and_return_conditional_losses, value_layer_call_fn while saving (showing 5 of 72). These functions will not be directly callable after loading.\n"
     ]
    },
    {
     "name": "stdout",
     "output_type": "stream",
     "text": [
      "INFO:tensorflow:Assets written to: ram://da88295e-52f2-46bc-8306-e0bffb7f1cfa/assets\n"
     ]
    },
    {
     "name": "stderr",
     "output_type": "stream",
     "text": [
      "INFO:tensorflow:Assets written to: ram://da88295e-52f2-46bc-8306-e0bffb7f1cfa/assets\n"
     ]
    }
   ],
   "source": [
    "with open('model.pickle', 'wb') as handle:\n",
    "    pickle.dump(model, handle, protocol=pickle.HIGHEST_PROTOCOL)"
   ]
  },
  {
   "cell_type": "code",
   "execution_count": 39,
   "metadata": {},
   "outputs": [
    {
     "name": "stdout",
     "output_type": "stream",
     "text": [
      "1/1 [==============================] - 1s 581ms/step\n",
      "The predicted topic for the given lyrics is: sadness\n"
     ]
    }
   ],
   "source": [
    "maxlen=maxlen\n",
    "\n",
    "# Load the model, tokenizer, and label encoder\n",
    "model = load_model('lyrics_topic_model.h5')\n",
    "\n",
    "with open('tokenizer.pickle', 'rb') as handle:\n",
    "    tokenizer = pickle.load(handle)\n",
    "\n",
    "# with open('label_encoder.pickle', 'rb') as handle:\n",
    "#     label_encoder = pickle.load(handle)\n",
    "\n",
    "# Function to predict the topic of new lyrics\n",
    "def predict_topic(new_lyrics):\n",
    "    # Tokenize and pad the new lyrics\n",
    "    sequences = tokenizer.texts_to_sequences([new_lyrics])\n",
    "    padded_sequences = pad_sequences(sequences, padding='post',maxlen=maxlen)\n",
    "    \n",
    "    # Predict the topic\n",
    "    prediction = model.predict(padded_sequences) # type: ignore\n",
    "    predicted_topic_index = np.argmax(prediction)\n",
    "    # predicted_topic = label_encoder.inverse_transform([predicted_topic_index])\n",
    "    \n",
    "    return Emotion[predicted_topic_index]\n",
    "\n",
    "# Example usage\n",
    "new_lyrics = \"i love you\"\n",
    "predicted_topic = predict_topic(new_lyrics)\n",
    "print(f\"The predicted topic for the given lyrics is: {predicted_topic}\")\n",
    "\n"
   ]
  }
 ],
 "metadata": {
  "accelerator": "TPU",
  "colab": {
   "authorship_tag": "ABX9TyMfSWd4Yk/QHJTs9xAoj18U",
   "mount_file_id": "1ICtMiN04gBN1tvtj84vM_kJ83taC8aHE",
   "name": "",
   "provenance": [
    {
     "file_id": "10h5bcqagXeNcVWPwhOK7EK4fEajVEmRZ",
     "timestamp": 1709281962794
    }
   ],
   "version": ""
  },
  "kernelspec": {
   "display_name": "Python 3 (ipykernel)",
   "language": "python",
   "name": "python3"
  },
  "language_info": {
   "codemirror_mode": {
    "name": "ipython",
    "version": 3
   },
   "file_extension": ".py",
   "mimetype": "text/x-python",
   "name": "python",
   "nbconvert_exporter": "python",
   "pygments_lexer": "ipython3",
   "version": "3.10.13"
  }
 },
 "nbformat": 4,
 "nbformat_minor": 4
}
